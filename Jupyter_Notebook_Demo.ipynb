{
 "cells": [
  {
   "cell_type": "markdown",
   "id": "2010594f-d35e-4187-a462-c06236fa5ba6",
   "metadata": {},
   "source": [
    "# Jupyter_Notebook_Demo"
   ]
  },
  {
   "cell_type": "markdown",
   "id": "3baa497f-2100-4cae-b10f-e7363cbbda52",
   "metadata": {},
   "source": [
    "This notebook contains my submission to the peer graded exam."
   ]
  },
  {
   "cell_type": "markdown",
   "id": "a8590062-431a-4821-9ee3-7a703d0ed0c3",
   "metadata": {},
   "source": [
    "Some data science languages:\n",
    "- python\n",
    "- R\n",
    "- Julia\n",
    "- SQL"
   ]
  },
  {
   "cell_type": "markdown",
   "id": "6df3eb42-9228-4e7c-b84d-26197163529c",
   "metadata": {},
   "source": [
    "Some data science libraries:\n",
    "- panda\n",
    "- numpy\n",
    "- matplotlib\n",
    "- scikit-learn"
   ]
  },
  {
   "cell_type": "markdown",
   "id": "039f0be2-d894-4fee-8dc9-6fcfe18d0fcb",
   "metadata": {},
   "source": [
    "Some data science tools:\n",
    "- MySQL\n",
    "- JupyterLab\n",
    "- RStudio\n",
    "- Watson Studio"
   ]
  },
  {
   "cell_type": "markdown",
   "id": "82ef992f-8870-4bd3-93be-910b5b1c8344",
   "metadata": {},
   "source": [
    "`A + 3 = 7`\n",
    "\n",
    "`A = 4`"
   ]
  },
  {
   "cell_type": "code",
   "execution_count": 3,
   "id": "3b103547-8d43-474e-899a-d5043af74703",
   "metadata": {},
   "outputs": [
    {
     "name": "stdout",
     "output_type": "stream",
     "text": [
      "56\n"
     ]
    }
   ],
   "source": [
    "sum = 3 + 5\n",
    "product = sum * 7\n",
    "print(product)"
   ]
  },
  {
   "cell_type": "code",
   "execution_count": 5,
   "id": "bf48ef2e-9ad2-4df7-9fd7-2d815767e1fd",
   "metadata": {},
   "outputs": [
    {
     "name": "stdout",
     "output_type": "stream",
     "text": [
      "30 minutes are 0.5 hours.\n"
     ]
    }
   ],
   "source": [
    "min = 30\n",
    "hours = min/60\n",
    "print(f\"{min} minutes are {hours} hours.\")"
   ]
  },
  {
   "cell_type": "markdown",
   "id": "c0fdb629-a8a4-41ed-9d6b-9a16fa001e24",
   "metadata": {},
   "source": [
    "Objectives:\n",
    "1. Learn SQL.\n",
    "2. Get good at Python.\n",
    "3. Solve problems."
   ]
  },
  {
   "cell_type": "markdown",
   "id": "06ea82f2-b1ce-4029-b15c-b2daa0060b45",
   "metadata": {},
   "source": [
    "Authors name: *Sven*"
   ]
  }
 ],
 "metadata": {
  "kernelspec": {
   "display_name": "Python",
   "language": "python",
   "name": "conda-env-python-py"
  },
  "language_info": {
   "codemirror_mode": {
    "name": "ipython",
    "version": 3
   },
   "file_extension": ".py",
   "mimetype": "text/x-python",
   "name": "python",
   "nbconvert_exporter": "python",
   "pygments_lexer": "ipython3",
   "version": "3.7.12"
  }
 },
 "nbformat": 4,
 "nbformat_minor": 5
}
