{
 "cells": [
  {
   "cell_type": "markdown",
   "id": "2010594f-d35e-4187-a462-c06236fa5ba6",
   "metadata": {},
   "source": [
    "# Data Science Tools and Ecosystem"
   ]
  },
  {
   "cell_type": "markdown",
   "id": "3baa497f-2100-4cae-b10f-e7363cbbda52",
   "metadata": {},
   "source": [
    "In this notebook, Data Science Tools and Ecosystem are summarized."
   ]
  },
  {
   "cell_type": "markdown",
   "id": "a8590062-431a-4821-9ee3-7a703d0ed0c3",
   "metadata": {},
   "source": [
    "Some of the popular languages that Data Scientists use are:\n",
    "1. python\n",
    "2. R\n",
    "3. Julia\n",
    "4. SQL"
   ]
  },
  {
   "cell_type": "markdown",
   "id": "6df3eb42-9228-4e7c-b84d-26197163529c",
   "metadata": {},
   "source": [
    "Some of the commonly used libraries used by Data Scientists include:\n",
    "1. panda\n",
    "2. numpy\n",
    "3. matplotlib\n",
    "4. scikit-learn"
   ]
  },
  {
   "cell_type": "markdown",
   "id": "039f0be2-d894-4fee-8dc9-6fcfe18d0fcb",
   "metadata": {},
   "source": [
    "| Data Science Tools |\n",
    "| --- |\n",
    "| MySQL |\n",
    "| JupyterLab |\n",
    "| RStudio |\n",
    "| Watson Studio |"
   ]
  },
  {
   "cell_type": "markdown",
   "id": "82ef992f-8870-4bd3-93be-910b5b1c8344",
   "metadata": {},
   "source": [
    "### Below are a few examples of evaluating arithmetic expressions in Python"
   ]
  },
  {
   "cell_type": "code",
   "execution_count": 1,
   "id": "3b103547-8d43-474e-899a-d5043af74703",
   "metadata": {},
   "outputs": [
    {
     "data": {
      "text/plain": [
       "17"
      ]
     },
     "execution_count": 1,
     "metadata": {},
     "output_type": "execute_result"
    }
   ],
   "source": [
    "# This a simple arithmetic expression to mutiply then add integers\n",
    "(3*4)+5"
   ]
  },
  {
   "cell_type": "code",
   "execution_count": 4,
   "id": "bf48ef2e-9ad2-4df7-9fd7-2d815767e1fd",
   "metadata": {},
   "outputs": [
    {
     "name": "stdout",
     "output_type": "stream",
     "text": [
      "200 minutes are 3.3333333333333335 hours.\n"
     ]
    }
   ],
   "source": [
    "# This will convert 200 minutes to hours by diving by 60\n",
    "n_mins = 200\n",
    "n_hours = n_mins/60\n",
    "print(f\"{n_mins} minutes are {n_hours} hours.\")"
   ]
  },
  {
   "cell_type": "markdown",
   "id": "c0fdb629-a8a4-41ed-9d6b-9a16fa001e24",
   "metadata": {},
   "source": [
    "**Objectives:**\n",
    "- List popular languages for Data Science\n",
    "- Demostrate simple arthmetic operations\n",
    "- Table of data science tools"
   ]
  },
  {
   "cell_type": "markdown",
   "id": "06ea82f2-b1ce-4029-b15c-b2daa0060b45",
   "metadata": {},
   "source": [
    "## Author \n",
    "Sven"
   ]
  }
 ],
 "metadata": {
  "kernelspec": {
   "display_name": "Python 3 (ipykernel)",
   "language": "python",
   "name": "python3"
  },
  "language_info": {
   "codemirror_mode": {
    "name": "ipython",
    "version": 3
   },
   "file_extension": ".py",
   "mimetype": "text/x-python",
   "name": "python",
   "nbconvert_exporter": "python",
   "pygments_lexer": "ipython3",
   "version": "3.9.13"
  }
 },
 "nbformat": 4,
 "nbformat_minor": 5
}
